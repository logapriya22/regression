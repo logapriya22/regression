{
 "cells": [
  {
   "cell_type": "code",
   "execution_count": null,
   "id": "83a8d6fc-d928-4cb7-91e6-8fde800e0dc7",
   "metadata": {},
   "outputs": [],
   "source": [
    "!git clone https://github.com/krishnamouli2/Regression.git"
   ]
  }
 ],
 "metadata": {
  "kernelspec": {
   "display_name": "Python 3 (Intel® oneAPI 2023.1)",
   "language": "python",
   "name": "c009-intel_distribution_of_python_3_oneapi-beta05-python"
  },
  "language_info": {
   "codemirror_mode": {
    "name": "ipython",
    "version": 3
   },
   "file_extension": ".py",
   "mimetype": "text/x-python",
   "name": "python",
   "nbconvert_exporter": "python",
   "pygments_lexer": "ipython3",
   "version": "3.9.16"
  }
 },
 "nbformat": 4,
 "nbformat_minor": 5
}
